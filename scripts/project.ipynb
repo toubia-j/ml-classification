{
 "cells": [
  {
   "cell_type": "code",
   "execution_count": 9,
   "id": "f8db087c-abaf-4911-90d5-649be76e6976",
   "metadata": {},
   "outputs": [
    {
     "name": "stdout",
     "output_type": "stream",
     "text": [
      "Collecting xgboost\n",
      "  Downloading xgboost-2.1.3-py3-none-win_amd64.whl.metadata (2.1 kB)\n",
      "Requirement already satisfied: numpy in c:\\users\\joeto\\anaconda3\\envs\\tp\\lib\\site-packages (from xgboost) (1.26.4)\n",
      "Requirement already satisfied: scipy in c:\\users\\joeto\\anaconda3\\envs\\tp\\lib\\site-packages (from xgboost) (1.13.1)\n",
      "Downloading xgboost-2.1.3-py3-none-win_amd64.whl (124.9 MB)\n",
      "   ---------------------------------------- 0.0/124.9 MB ? eta -:--:--\n",
      "   --- ------------------------------------ 11.3/124.9 MB 64.0 MB/s eta 0:00:02\n",
      "   ------ --------------------------------- 19.7/124.9 MB 51.7 MB/s eta 0:00:03\n",
      "   -------- ------------------------------- 27.0/124.9 MB 46.2 MB/s eta 0:00:03\n",
      "   ----------- ---------------------------- 36.7/124.9 MB 44.8 MB/s eta 0:00:02\n",
      "   --------------- ------------------------ 47.2/124.9 MB 46.9 MB/s eta 0:00:02\n",
      "   ------------------ --------------------- 57.4/124.9 MB 46.9 MB/s eta 0:00:02\n",
      "   --------------------- ------------------ 67.6/124.9 MB 47.4 MB/s eta 0:00:02\n",
      "   ------------------------ --------------- 77.9/124.9 MB 47.8 MB/s eta 0:00:01\n",
      "   ---------------------------- ----------- 88.3/124.9 MB 48.2 MB/s eta 0:00:01\n",
      "   ------------------------------- -------- 98.6/124.9 MB 48.4 MB/s eta 0:00:01\n",
      "   ---------------------------------- ---- 109.1/124.9 MB 48.7 MB/s eta 0:00:01\n",
      "   ------------------------------------- - 119.5/124.9 MB 48.9 MB/s eta 0:00:01\n",
      "   --------------------------------------  124.8/124.9 MB 48.9 MB/s eta 0:00:01\n",
      "   --------------------------------------- 124.9/124.9 MB 43.8 MB/s eta 0:00:00\n",
      "Installing collected packages: xgboost\n",
      "Successfully installed xgboost-2.1.3\n"
     ]
    }
   ],
   "source": [
    "! pip install xgboost"
   ]
  },
  {
   "cell_type": "code",
   "execution_count": 25,
   "id": "d8c458ac-a759-4a88-86a5-184658783a15",
   "metadata": {},
   "outputs": [],
   "source": [
    "import pandas as pd\n",
    "import xgboost as xgb\n",
    "from sklearn.model_selection import train_test_split\n",
    "from sklearn.metrics import accuracy_score\n",
    "from sklearn.preprocessing import LabelEncoder\n",
    "from sklearn.metrics import confusion_matrix"
   ]
  },
  {
   "cell_type": "code",
   "execution_count": 7,
   "id": "476520f5-bce5-4edf-8b8c-324a9b01827d",
   "metadata": {},
   "outputs": [
    {
     "name": "stdout",
     "output_type": "stream",
     "text": [
      "     0    1    2    3    4    5    6    7    8    9  ...  1015  1016  1017  \\\n",
      "0  174  185  196  202  206  212  215  176  159  143  ...     5    12    37   \n",
      "1   42   46   49   47   41   39   57   66   67   71  ...    32    33    51   \n",
      "2   50   59   61   60   60   56   54   51   52   50  ...   126    75    73   \n",
      "3  222  228  228  229  229  227  228  229  225  223  ...   176   232   253   \n",
      "4  106   91  131  163  214  201  244  195  182  143  ...   106    99    93   \n",
      "\n",
      "   1018  1019  1020  1021  1022  1023  label  \n",
      "0    38    18     5     3     2     2    cat  \n",
      "1    52    54    55    59    58    51    cat  \n",
      "2    73    70   104   140   149   166    cat  \n",
      "3   246   235   223   206   214   215    cat  \n",
      "4   100    93    90    75    88    85    cat  \n",
      "\n",
      "[5 rows x 1025 columns]\n"
     ]
    }
   ],
   "source": [
    "df=pd.read_csv(r\"C:\\Users\\joeto\\Downloads\\ref_data.xls\")\n",
    "print(df.head())"
   ]
  },
  {
   "cell_type": "code",
   "execution_count": 18,
   "id": "4e9bac90-afa7-400d-8f59-79db5a80d142",
   "metadata": {},
   "outputs": [
    {
     "name": "stdout",
     "output_type": "stream",
     "text": [
      "label\n",
      "cat    12499\n",
      "dog    12499\n",
      "Name: count, dtype: int64\n"
     ]
    }
   ],
   "source": [
    "print(y.value_counts())\n"
   ]
  },
  {
   "cell_type": "code",
   "execution_count": 21,
   "id": "396b46bc-8bbb-448c-9254-0e96558ba843",
   "metadata": {},
   "outputs": [],
   "source": [
    "df[\"label\"] = df[\"label\"].apply(lambda x: 0 if x == 'cat' else 1)\n"
   ]
  },
  {
   "cell_type": "code",
   "execution_count": 22,
   "id": "639a0704-0717-48a9-a1af-f4ce12b16c5c",
   "metadata": {},
   "outputs": [],
   "source": [
    "X = df.drop(columns=[\"label\"]) \n",
    "y = df[\"label\"] "
   ]
  },
  {
   "cell_type": "code",
   "execution_count": 23,
   "id": "dfa1f57c-3a8d-4a7c-8d6a-6cd1c3566eef",
   "metadata": {},
   "outputs": [],
   "source": [
    "X_train, X_test, y_train, y_test = train_test_split(X, y, test_size=0.2, random_state=42)"
   ]
  },
  {
   "cell_type": "code",
   "execution_count": 52,
   "id": "d667bb10-0c72-4706-9768-41176e9643c1",
   "metadata": {},
   "outputs": [],
   "source": [
    "\n",
    "\n",
    "\n",
    "\n",
    "model = xgb.XGBClassifier(\n",
    "    max_depth=6,\n",
    "    n_estimators=300,\n",
    "    learning_rate=0.1,\n",
    "    objective='binary:logistic',\n",
    "    subsample=0.8,\n",
    "    colsample_bytree=0.8\n",
    ")\n",
    "\n",
    "\n",
    "model.fit(X_train, y_train)\n",
    "\n",
    "\n",
    "y_pred = model.predict(X_test)\n",
    "\n"
   ]
  },
  {
   "cell_type": "code",
   "execution_count": 53,
   "id": "84c284dc-21e0-4d47-8336-dd890ebe50a7",
   "metadata": {},
   "outputs": [
    {
     "data": {
      "image/png": "[encoded data removed]",
      "text/plain": [
       "<Figure size 600x500 with 1 Axes>"
      ]
     },
     "metadata": {},
     "output_type": "display_data"
    },
    {
     "name": "stdout",
     "output_type": "stream",
     "text": [
      "Accuracy : 0.69\n",
      "F1-Score: 0.6888132879727836\n"
     ]
    }
   ],
   "source": [
    "import seaborn as sns\n",
    "import matplotlib.pyplot as plt\n",
    "from sklearn.metrics import confusion_matrix, accuracy_score\n",
    "from sklearn.metrics import f1_score\n",
    "\n",
    "\n",
    "cm = confusion_matrix(y_test, y_pred)\n",
    "\n",
    "plt.figure(figsize=(6, 5))\n",
    "\n",
    "sns.heatmap(cm, annot=True, fmt='d', cmap='Blues', xticklabels=['Cat', 'Dog'], yticklabels=['Cat', 'Dog'], cbar=False)\n",
    "\n",
    "plt.title('Matrice de Confusion')\n",
    "plt.xlabel('Prédictions')\n",
    "plt.ylabel('Réalité')\n",
    "\n",
    "# Afficher la matrice\n",
    "plt.show()\n",
    "\n",
    "# Calcul du score de précision (accuracy)\n",
    "accuracy = accuracy_score(y_test, y_pred)\n",
    "print(f\"Accuracy : {accuracy:.2f}\")\n",
    "\n",
    "f1 = f1_score(y_test, y_pred)\n",
    "\n",
    "print(f\"F1-Score: {f1}\")"
   ]
  },
  {
   "cell_type": "code",
   "execution_count": 50,
   "id": "9e3834b0-f04a-4ec8-ae90-839414c09fef",
   "metadata": {},
   "outputs": [],
   "source": [
    "from catboost import CatBoostClassifier\n",
    "\n",
    "\n",
    "\n",
    "model = CatBoostClassifier(\n",
    "    iterations=300,        # Nombre d'itérations\n",
    "    depth=6,               # Profondeur des arbres\n",
    "    learning_rate=0.1,     # Taux d'apprentissage\n",
    "    cat_features=[]        # Liste des indices des colonnes catégorielles si présentes\n",
    ")\n",
    "\n",
    "# Entraînement du modèle\n",
    "model.fit(X_train, y_train, cat_features=[],verbose=False)\n",
    "\n",
    "y_pred = model.predict(X_test)\n"
   ]
  },
  {
   "cell_type": "code",
   "execution_count": 51,
   "id": "59346fd3-fcf4-4c4a-85ac-bc78bc47c2cd",
   "metadata": {},
   "outputs": [
    {
     "data": {
      "image/png": "[encoded data removed]",
      "text/plain": [
       "<Figure size 600x500 with 1 Axes>"
      ]
     },
     "metadata": {},
     "output_type": "display_data"
    },
    {
     "name": "stdout",
     "output_type": "stream",
     "text": [
      "Accuracy : 0.68\n",
      "F1-Score: 0.690616411464468\n"
     ]
    }
   ],
   "source": [
    "import seaborn as sns\n",
    "import matplotlib.pyplot as plt\n",
    "from sklearn.metrics import confusion_matrix, accuracy_score\n",
    "from sklearn.metrics import f1_score\n",
    "\n",
    "\n",
    "cm = confusion_matrix(y_test, y_pred)\n",
    "\n",
    "plt.figure(figsize=(6, 5))\n",
    "\n",
    "sns.heatmap(cm, annot=True, fmt='d', cmap='Blues', xticklabels=['Cat', 'Dog'], yticklabels=['Cat', 'Dog'], cbar=False)\n",
    "\n",
    "plt.title('Matrice de Confusion')\n",
    "plt.xlabel('Prédictions')\n",
    "plt.ylabel('Réalité')\n",
    "\n",
    "# Afficher la matrice\n",
    "plt.show()\n",
    "\n",
    "# Calcul du score de précision (accuracy)\n",
    "accuracy = accuracy_score(y_test, y_pred)\n",
    "print(f\"Accuracy : {accuracy:.2f}\")\n",
    "\n",
    "f1 = f1_score(y_test, y_pred)\n",
    "\n",
    "print(f\"F1-Score: {f1}\")"
   ]
  },
  {
   "cell_type": "code",
   "execution_count": 55,
   "id": "659c4da2-0852-484e-9a28-20c0455fdfb0",
   "metadata": {},
   "outputs": [
    {
     "name": "stderr",
     "output_type": "stream",
     "text": [
      "C:\\Users\\joeto\\anaconda3\\envs\\tp\\lib\\site-packages\\sklearn\\linear_model\\_logistic.py:469: ConvergenceWarning: lbfgs failed to converge (status=1):\n",
      "STOP: TOTAL NO. of ITERATIONS REACHED LIMIT.\n",
      "\n",
      "Increase the number of iterations (max_iter) or scale the data as shown in:\n",
      "    https://scikit-learn.org/stable/modules/preprocessing.html\n",
      "Please also refer to the documentation for alternative solver options:\n",
      "    https://scikit-learn.org/stable/modules/linear_model.html#logistic-regression\n",
      "  n_iter_i = _check_optimize_result(\n"
     ]
    }
   ],
   "source": [
    "from sklearn.linear_model import LogisticRegression\n",
    "from sklearn.preprocessing import StandardScaler\n",
    "\n",
    "\n",
    "scaler = StandardScaler()\n",
    "X_train = scaler.fit_transform(X_train)\n",
    "X_test = scaler.transform(X_test)\n",
    "\n",
    "\n",
    "model = LogisticRegression()\n",
    "\n",
    "# Entraînement du modèle\n",
    "model.fit(X_train, y_train)\n",
    "\n",
    "# Prédictions sur les données de test\n",
    "y_pred = model.predict(X_test)\n"
   ]
  },
  {
   "cell_type": "code",
   "execution_count": 56,
   "id": "02cab7ed-0301-47a4-abf7-903c5a31d6ea",
   "metadata": {},
   "outputs": [
    {
     "data": {
      "image/png": "[encoded data removed]",
      "text/plain": [
       "<Figure size 600x500 with 1 Axes>"
      ]
     },
     "metadata": {},
     "output_type": "display_data"
    },
    {
     "name": "stdout",
     "output_type": "stream",
     "text": [
      "Accuracy : 0.55\n",
      "F1-Score: 0.5434388228179803\n"
     ]
    }
   ],
   "source": [
    "import seaborn as sns\n",
    "import matplotlib.pyplot as plt\n",
    "from sklearn.metrics import confusion_matrix, accuracy_score\n",
    "from sklearn.metrics import f1_score\n",
    "\n",
    "\n",
    "cm = confusion_matrix(y_test, y_pred)\n",
    "\n",
    "plt.figure(figsize=(6, 5))\n",
    "\n",
    "sns.heatmap(cm, annot=True, fmt='d', cmap='Blues', xticklabels=['Cat', 'Dog'], yticklabels=['Cat', 'Dog'], cbar=False)\n",
    "\n",
    "plt.title('Matrice de Confusion')\n",
    "plt.xlabel('Prédictions')\n",
    "plt.ylabel('Réalité')\n",
    "\n",
    "# Afficher la matrice\n",
    "plt.show()\n",
    "\n",
    "# Calcul du score de précision (accuracy)\n",
    "accuracy = accuracy_score(y_test, y_pred)\n",
    "print(f\"Accuracy : {accuracy:.2f}\")\n",
    "\n",
    "f1 = f1_score(y_test, y_pred)\n",
    "\n",
    "print(f\"F1-Score: {f1}\")"
   ]
  },
  {
   "cell_type": "code",
   "execution_count": 60,
   "id": "2221252f-e7a7-480a-9c70-e339fcb793cb",
   "metadata": {},
   "outputs": [],
   "source": [
    "from sklearn.ensemble import RandomForestClassifier\n",
    "\n",
    "\n",
    "scaler = StandardScaler()\n",
    "X_train = scaler.fit_transform(X_train)\n",
    "X_test = scaler.transform(X_test)\n",
    "\n",
    "# Création du modèle de Random Forest\n",
    "model = RandomForestClassifier(\n",
    "    n_estimators=200,        # Nombre d'arbres dans la forêt\n",
    "    max_depth=6,          # Profondeur des arbres\n",
    "    random_state=42,         # Pour garantir la reproductibilité\n",
    "    n_jobs=-1                # Utiliser tous les cœurs du processeur pour l'entraînement\n",
    ")\n",
    "\n",
    "# Entraînement du modèle\n",
    "model.fit(X_train, y_train)\n",
    "\n",
    "# Prédictions sur les données de test\n",
    "y_pred = model.predict(X_test)\n"
   ]
  },
  {
   "cell_type": "code",
   "execution_count": 61,
   "id": "adaf70e8-c8bb-4351-83d9-cb4320fe55bf",
   "metadata": {},
   "outputs": [
    {
     "data": {
      "image/png": "[encoded data removed]",
      "text/plain": [
       "<Figure size 600x500 with 1 Axes>"
      ]
     },
     "metadata": {},
     "output_type": "display_data"
    },
    {
     "name": "stdout",
     "output_type": "stream",
     "text": [
      "Accuracy : 0.62\n",
      "F1-Score: 0.6251220941590154\n"
     ]
    }
   ],
   "source": [
    "import seaborn as sns\n",
    "import matplotlib.pyplot as plt\n",
    "from sklearn.metrics import confusion_matrix, accuracy_score\n",
    "from sklearn.metrics import f1_score\n",
    "\n",
    "\n",
    "cm = confusion_matrix(y_test, y_pred)\n",
    "\n",
    "plt.figure(figsize=(6, 5))\n",
    "\n",
    "sns.heatmap(cm, annot=True, fmt='d', cmap='Blues', xticklabels=['Cat', 'Dog'], yticklabels=['Cat', 'Dog'], cbar=False)\n",
    "\n",
    "plt.title('Matrice de Confusion')\n",
    "plt.xlabel('Prédictions')\n",
    "plt.ylabel('Réalité')\n",
    "\n",
    "# Afficher la matrice\n",
    "plt.show()\n",
    "\n",
    "# Calcul du score de précision (accuracy)\n",
    "accuracy = accuracy_score(y_test, y_pred)\n",
    "print(f\"Accuracy : {accuracy:.2f}\")\n",
    "\n",
    "f1 = f1_score(y_test, y_pred)\n",
    "\n",
    "print(f\"F1-Score: {f1}\")\n"
   ]
  },
  {
   "cell_type": "code",
   "execution_count": null,
   "id": "0a58ed68-d76e-4f03-9eb8-68575689d840",
   "metadata": {},
   "outputs": [],
   "source": []
  }
 ],
 "metadata": {
  "kernelspec": {
   "display_name": "Python 3 (ipykernel)",
   "language": "python",
   "name": "python3"
  },
  "language_info": {
   "codemirror_mode": {
    "name": "ipython",
    "version": 3
   },
   "file_extension": ".py",
   "mimetype": "text/x-python",
   "name": "python",
   "nbconvert_exporter": "python",
   "pygments_lexer": "ipython3",
   "version": "3.9.19"
  }
 },
 "nbformat": 4,
 "nbformat_minor": 5
}
